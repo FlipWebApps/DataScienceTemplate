{
 "cells": [
  {
   "cell_type": "markdown",
   "metadata": {},
   "source": [
    "This is an example notebook.\n",
    "\n",
    "Some information about the current environment"
   ]
  },
  {
   "cell_type": "code",
   "execution_count": 1,
   "metadata": {},
   "outputs": [
    {
     "name": "stdout",
     "output_type": "stream",
     "text": [
      "D:\\Development\\DataScience\\Projects\\DataScienceTemplate\\eda\n",
      "3.6.2 |Anaconda, Inc.| (default, Sep 19 2017, 08:03:39) [MSC v.1900 64 bit (AMD64)]\n",
      "C:\\Applications\\Miniconda3\\envs\\anaconda\\python.exe\n",
      "['', 'C:\\\\Applications\\\\Miniconda3\\\\envs\\\\anaconda\\\\python36.zip', 'C:\\\\Applications\\\\Miniconda3\\\\envs\\\\anaconda\\\\DLLs', 'C:\\\\Applications\\\\Miniconda3\\\\envs\\\\anaconda\\\\lib', 'C:\\\\Applications\\\\Miniconda3\\\\envs\\\\anaconda', 'C:\\\\Applications\\\\Miniconda3\\\\envs\\\\anaconda\\\\lib\\\\site-packages', 'C:\\\\Applications\\\\Miniconda3\\\\envs\\\\anaconda\\\\lib\\\\site-packages\\\\Babel-2.5.0-py3.6.egg', 'C:\\\\Applications\\\\Miniconda3\\\\envs\\\\anaconda\\\\lib\\\\site-packages\\\\win32', 'C:\\\\Applications\\\\Miniconda3\\\\envs\\\\anaconda\\\\lib\\\\site-packages\\\\win32\\\\lib', 'C:\\\\Applications\\\\Miniconda3\\\\envs\\\\anaconda\\\\lib\\\\site-packages\\\\Pythonwin', 'C:\\\\Applications\\\\Miniconda3\\\\envs\\\\anaconda\\\\lib\\\\site-packages\\\\IPython\\\\extensions', 'C:\\\\Users\\\\mark_\\\\.ipython']\n"
     ]
    }
   ],
   "source": [
    "import os\n",
    "import sys\n",
    "\n",
    "print (os.getcwd())\n",
    "print (sys.version)\n",
    "print (sys.executable)\n",
    "print (sys.path)"
   ]
  },
  {
   "cell_type": "code",
   "execution_count": 2,
   "metadata": {
    "collapsed": true
   },
   "outputs": [],
   "source": [
    "# Add the src folder to the package search path so we can find out packages\n",
    "src_dir = os.path.join(os.getcwd(), os.pardir, 'src')\n",
    "if src_dir not in sys.path:\n",
    "    sys.path.append(src_dir)"
   ]
  },
  {
   "cell_type": "code",
   "execution_count": 3,
   "metadata": {},
   "outputs": [
    {
     "data": {
      "text/plain": [
       "'Hello World'"
      ]
     },
     "execution_count": 3,
     "metadata": {},
     "output_type": "execute_result"
    }
   ],
   "source": [
    "# Use our package\n",
    "from common import example\n",
    "example.hello_world()"
   ]
  },
  {
   "cell_type": "code",
   "execution_count": null,
   "metadata": {
    "collapsed": true
   },
   "outputs": [],
   "source": []
  }
 ],
 "metadata": {
  "kernelspec": {
   "display_name": "Python 3",
   "language": "python",
   "name": "python3"
  },
  "language_info": {
   "codemirror_mode": {
    "name": "ipython",
    "version": 3
   },
   "file_extension": ".py",
   "mimetype": "text/x-python",
   "name": "python",
   "nbconvert_exporter": "python",
   "pygments_lexer": "ipython3",
   "version": "3.6.2"
  }
 },
 "nbformat": 4,
 "nbformat_minor": 2
}
